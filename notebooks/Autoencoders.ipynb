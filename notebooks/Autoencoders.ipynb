{
  "cells": [
    {
      "cell_type": "code",
      "execution_count": 2,
      "metadata": {
        "colab": {
          "base_uri": "https://localhost:8080/"
        },
        "id": "InKg5WsXz9Yk",
        "outputId": "55bac31e-93ee-4522-fc9e-c0b5c50d49b1"
      },
      "outputs": [
        {
          "name": "stdout",
          "output_type": "stream",
          "text": [
            "Mounted at /content/drive\n"
          ]
        }
      ],
      "source": [
        "from google.colab import drive\n",
        "drive.mount('/content/drive')"
      ]
    },
    {
      "cell_type": "code",
      "execution_count": 4,
      "metadata": {
        "id": "-zqa-qkHz6JM"
      },
      "outputs": [],
      "source": [
        "import numpy as np\n",
        "import seaborn as sb\n",
        "import matplotlib.pyplot as plt\n",
        "\n",
        "from sklearn.svm import OneClassSVM\n",
        "from sklearn.metrics import accuracy_score, precision_score, recall_score, f1_score, confusion_matrix, roc_curve, auc, fbeta_score\n",
        "\n",
        "import torch\n",
        "from torch import nn\n",
        "\n",
        "from Autoencoders import *\n",
        "from DataPreprocessing import *"
      ]
    },
    {
      "cell_type": "markdown",
      "metadata": {
        "id": "lf_c93UMz6JQ"
      },
      "source": [
        "# Data preprocessing"
      ]
    },
    {
      "cell_type": "code",
      "execution_count": 5,
      "metadata": {
        "colab": {
          "base_uri": "https://localhost:8080/"
        },
        "id": "pXO2IOxbz6JU",
        "outputId": "d4161977-849d-40aa-92a3-78e088e9f219"
      },
      "outputs": [
        {
          "name": "stdout",
          "output_type": "stream",
          "text": [
            "Using device: cuda\n",
            "Fold 1\n",
            "  Training data size: 227452\n",
            "  Testing data size: 57355\n",
            "  Labels 0 in training data: 227452\n",
            "  Labels 1 in testing data: 492\n",
            "Fold 2\n",
            "  Training data size: 227452\n",
            "  Testing data size: 57355\n",
            "  Labels 0 in training data: 227452\n",
            "  Labels 1 in testing data: 492\n",
            "Fold 3\n",
            "  Training data size: 227452\n",
            "  Testing data size: 57355\n",
            "  Labels 0 in training data: 227452\n",
            "  Labels 1 in testing data: 492\n",
            "Fold 4\n",
            "  Training data size: 227452\n",
            "  Testing data size: 57355\n",
            "  Labels 0 in training data: 227452\n",
            "  Labels 1 in testing data: 492\n",
            "Fold 5\n",
            "  Training data size: 227452\n",
            "  Testing data size: 57355\n",
            "  Labels 0 in training data: 227452\n",
            "  Labels 1 in testing data: 492\n"
          ]
        }
      ],
      "source": [
        "# Check if CUDA is available\n",
        "device = torch.device(\"cuda\" if torch.cuda.is_available() else \"cpu\")\n",
        "print(f\"Using device: {device}\")\n",
        "\n",
        "csv_path = '/content/drive/MyDrive/creditcard.csv'\n",
        "seed = 777\n",
        "batch_size = 32\n",
        "n_splits = 5\n",
        "# train_loader, test_loader, y_test, input_dim = Data_preprocessing(csv_path, seed, batch_size, n_splits)\n",
        "splits = Data_preprocessing(csv_path, seed, batch_size, n_splits)"
      ]
    },
    {
      "cell_type": "markdown",
      "metadata": {
        "id": "L6mfH9PZz6Ja"
      },
      "source": [
        "# Train model function"
      ]
    },
    {
      "cell_type": "code",
      "execution_count": 6,
      "metadata": {
        "id": "ykhhUVJ0z6Jb"
      },
      "outputs": [],
      "source": [
        "def train_model(model, dataloader, criterion, optimizer):\n",
        "\n",
        "    model.train()\n",
        "    total_loss = 0\n",
        "\n",
        "    for data, _ in dataloader:\n",
        "        data = data.to(device)\n",
        "\n",
        "        if isinstance(model, AutoEncoder):\n",
        "            decoded = model(data)\n",
        "            loss = criterion(decoded, data)\n",
        "\n",
        "        elif isinstance(model, SparseAutoEncoder):\n",
        "            decoded, encoded = model(data)\n",
        "            loss = model.sparse_loss(criterion, decoded, data, encoded)\n",
        "\n",
        "        elif isinstance(model, VariationalAutoEncoder):\n",
        "            decoded, mu, logvar = model(data)\n",
        "            loss = model.vae_loss(criterion, decoded, data, mu, logvar)\n",
        "\n",
        "        optimizer.zero_grad()\n",
        "\n",
        "        loss.backward()\n",
        "\n",
        "        optimizer.step()\n",
        "\n",
        "        total_loss += loss.item() * data.size(0)\n",
        "\n",
        "    return total_loss / len(dataloader.dataset)\n"
      ]
    },
    {
      "cell_type": "markdown",
      "metadata": {
        "id": "O_IygAGcz6Jd"
      },
      "source": [
        "# Evaluate model function"
      ]
    },
    {
      "cell_type": "code",
      "execution_count": 7,
      "metadata": {
        "id": "5RIUS7rHz6Je"
      },
      "outputs": [],
      "source": [
        "def evaluate_model(model, dataloader, criterion):\n",
        "\n",
        "    model.eval()\n",
        "    total_loss = 0\n",
        "    all_labels = []\n",
        "    all_scores = []\n",
        "\n",
        "    with torch.inference_mode():\n",
        "\n",
        "        for data, labels in dataloader:\n",
        "            data = data.to(device)\n",
        "            labels = labels.cpu().numpy()\n",
        "\n",
        "            if isinstance(model, AutoEncoder):\n",
        "                decoded = model(data)\n",
        "                loss = criterion(decoded, data)\n",
        "            elif isinstance(model, SparseAutoEncoder):\n",
        "                decoded, _ = model(data)\n",
        "                loss = criterion(decoded, data)\n",
        "            elif isinstance(model, VariationalAutoEncoder):\n",
        "                decoded, mu, logvar = model(data)\n",
        "                loss = model.vae_loss(criterion, decoded, data, mu, logvar)\n",
        "\n",
        "            total_loss += loss.item() * data.size(0)\n",
        "            all_labels.extend(labels)\n",
        "            all_scores.extend(loss.cpu().numpy() for _ in range(data.size(0)))\n",
        "\n",
        "    avg_loss = total_loss / len(dataloader.dataset)\n",
        "    return avg_loss, all_labels, all_scores"
      ]
    },
    {
      "cell_type": "markdown",
      "metadata": {
        "id": "J3x_9_h-z6Jg"
      },
      "source": [
        "# XV model funciton"
      ]
    },
    {
      "cell_type": "code",
      "execution_count": 8,
      "metadata": {
        "id": "hHzfYw-3z6Jh"
      },
      "outputs": [],
      "source": [
        "def cross_validate_model(model_class, splits, learning_rate, epochs, threshold=None):\n",
        "    fold_train_losses = []\n",
        "    fold_val_losses = []\n",
        "    all_labels = []\n",
        "    all_scores = []\n",
        "\n",
        "    for fold, (train_loader, val_loader, y_val, input_dim) in enumerate(splits):\n",
        "        if model_class == SparseAutoEncoder:\n",
        "            model = model_class(input_dim, sparsity_target=0.1, sparsity_weight=0.1)\n",
        "        else:\n",
        "            model = model_class(input_dim)\n",
        "\n",
        "        model = model.to(device)\n",
        "        criterion = nn.MSELoss()\n",
        "        optimizer = torch.optim.Adam(model.parameters(), lr=learning_rate)\n",
        "\n",
        "        train_losses = []\n",
        "        val_losses = []\n",
        "\n",
        "        for epoch in range(epochs):\n",
        "            train_loss = train_model(model, train_loader, criterion, optimizer)\n",
        "            val_loss, val_labels, val_scores = evaluate_model(model, val_loader, criterion)\n",
        "            train_losses.append(train_loss)\n",
        "            val_losses.append(val_loss)\n",
        "\n",
        "            print(f'Fold {fold + 1}, Epoch [{epoch + 1}/{epochs}], Train Loss: {train_loss:.4f}, Val Loss: {val_loss:.4f}')\n",
        "        print('\\n')\n",
        "\n",
        "        if threshold is None and fold == 0:\n",
        "            threshold = np.percentile(val_scores, 95)\n",
        "\n",
        "        fold_train_losses.append(train_losses)\n",
        "        fold_val_losses.append(val_losses)\n",
        "        all_labels.extend(val_labels)\n",
        "        all_scores.extend(val_scores)\n",
        "\n",
        "    avg_train_losses = np.mean(fold_train_losses, axis=0)\n",
        "    avg_val_losses = np.mean(fold_val_losses, axis=0)\n",
        "\n",
        "    return avg_train_losses, avg_val_losses, all_labels, all_scores, threshold\n"
      ]
    },
    {
      "cell_type": "markdown",
      "metadata": {
        "id": "ojK4Wr7WpX7g"
      },
      "source": [
        "# Loop for all AutoEncoders and XV"
      ]
    },
    {
      "cell_type": "code",
      "execution_count": 9,
      "metadata": {
        "colab": {
          "base_uri": "https://localhost:8080/"
        },
        "id": "eMx8I8qnz6Jh",
        "outputId": "427dc538-9701-4fc9-feb1-ce61874430aa"
      },
      "outputs": [
        {
          "name": "stdout",
          "output_type": "stream",
          "text": [
            "\n",
            "Evaluating AutoEncoder\n",
            "Fold 1, Epoch [1/10], Train Loss: 0.9457, Val Loss: 1.1210\n",
            "Fold 1, Epoch [2/10], Train Loss: 0.9134, Val Loss: 1.1046\n",
            "Fold 1, Epoch [3/10], Train Loss: 0.8983, Val Loss: 1.0892\n",
            "Fold 1, Epoch [4/10], Train Loss: 0.8851, Val Loss: 1.0820\n",
            "Fold 1, Epoch [5/10], Train Loss: 0.8807, Val Loss: 1.0787\n",
            "Fold 1, Epoch [6/10], Train Loss: 0.8787, Val Loss: 1.0772\n",
            "Fold 1, Epoch [7/10], Train Loss: 0.8768, Val Loss: 1.0751\n",
            "Fold 1, Epoch [8/10], Train Loss: 0.8752, Val Loss: 1.0747\n",
            "Fold 1, Epoch [9/10], Train Loss: 0.8733, Val Loss: 1.0740\n",
            "Fold 1, Epoch [10/10], Train Loss: 0.8720, Val Loss: 1.0745\n",
            "\n",
            "\n",
            "Fold 2, Epoch [1/10], Train Loss: 0.9424, Val Loss: 1.1651\n",
            "Fold 2, Epoch [2/10], Train Loss: 0.8988, Val Loss: 1.1417\n",
            "Fold 2, Epoch [3/10], Train Loss: 0.8881, Val Loss: 1.1357\n",
            "Fold 2, Epoch [4/10], Train Loss: 0.8834, Val Loss: 1.1326\n",
            "Fold 2, Epoch [5/10], Train Loss: 0.8808, Val Loss: 1.1314\n",
            "Fold 2, Epoch [6/10], Train Loss: 0.8783, Val Loss: 1.1313\n",
            "Fold 2, Epoch [7/10], Train Loss: 0.8761, Val Loss: 1.1266\n",
            "Fold 2, Epoch [8/10], Train Loss: 0.8740, Val Loss: 1.1238\n",
            "Fold 2, Epoch [9/10], Train Loss: 0.8709, Val Loss: 1.1230\n",
            "Fold 2, Epoch [10/10], Train Loss: 0.8678, Val Loss: 1.1222\n",
            "\n",
            "\n",
            "Fold 3, Epoch [1/10], Train Loss: 0.9412, Val Loss: 1.0919\n",
            "Fold 3, Epoch [2/10], Train Loss: 0.8988, Val Loss: 1.0843\n",
            "Fold 3, Epoch [3/10], Train Loss: 0.8933, Val Loss: 1.0794\n",
            "Fold 3, Epoch [4/10], Train Loss: 0.8891, Val Loss: 1.0763\n",
            "Fold 3, Epoch [5/10], Train Loss: 0.8851, Val Loss: 1.0718\n",
            "Fold 3, Epoch [6/10], Train Loss: 0.8826, Val Loss: 1.0702\n",
            "Fold 3, Epoch [7/10], Train Loss: 0.8803, Val Loss: 1.0687\n",
            "Fold 3, Epoch [8/10], Train Loss: 0.8780, Val Loss: 1.0666\n",
            "Fold 3, Epoch [9/10], Train Loss: 0.8759, Val Loss: 1.0644\n",
            "Fold 3, Epoch [10/10], Train Loss: 0.8747, Val Loss: 1.0636\n",
            "\n",
            "\n",
            "Fold 4, Epoch [1/10], Train Loss: 0.9400, Val Loss: 1.1346\n",
            "Fold 4, Epoch [2/10], Train Loss: 0.9019, Val Loss: 1.1228\n",
            "Fold 4, Epoch [3/10], Train Loss: 0.8931, Val Loss: 1.1160\n",
            "Fold 4, Epoch [4/10], Train Loss: 0.8881, Val Loss: 1.1118\n",
            "Fold 4, Epoch [5/10], Train Loss: 0.8838, Val Loss: 1.1084\n",
            "Fold 4, Epoch [6/10], Train Loss: 0.8812, Val Loss: 1.1060\n",
            "Fold 4, Epoch [7/10], Train Loss: 0.8780, Val Loss: 1.1038\n",
            "Fold 4, Epoch [8/10], Train Loss: 0.8757, Val Loss: 1.1020\n",
            "Fold 4, Epoch [9/10], Train Loss: 0.8743, Val Loss: 1.1001\n",
            "Fold 4, Epoch [10/10], Train Loss: 0.8729, Val Loss: 1.0990\n",
            "\n",
            "\n",
            "Fold 5, Epoch [1/10], Train Loss: 0.9263, Val Loss: 1.0926\n",
            "Fold 5, Epoch [2/10], Train Loss: 0.8852, Val Loss: 1.0815\n",
            "Fold 5, Epoch [3/10], Train Loss: 0.8773, Val Loss: 1.0760\n",
            "Fold 5, Epoch [4/10], Train Loss: 0.8737, Val Loss: 1.0748\n",
            "Fold 5, Epoch [5/10], Train Loss: 0.8717, Val Loss: 1.0734\n",
            "Fold 5, Epoch [6/10], Train Loss: 0.8701, Val Loss: 1.0718\n",
            "Fold 5, Epoch [7/10], Train Loss: 0.8682, Val Loss: 1.0689\n",
            "Fold 5, Epoch [8/10], Train Loss: 0.8663, Val Loss: 1.0667\n",
            "Fold 5, Epoch [9/10], Train Loss: 0.8650, Val Loss: 1.0658\n",
            "Fold 5, Epoch [10/10], Train Loss: 0.8639, Val Loss: 1.0651\n",
            "\n",
            "\n",
            "\n",
            "Evaluating SparseAutoEncoder\n",
            "Fold 1, Epoch [1/10], Train Loss: 1.1651, Val Loss: 1.1169\n",
            "Fold 1, Epoch [2/10], Train Loss: 1.1032, Val Loss: 1.0957\n",
            "Fold 1, Epoch [3/10], Train Loss: 1.0898, Val Loss: 1.0871\n",
            "Fold 1, Epoch [4/10], Train Loss: 1.0835, Val Loss: 1.0827\n",
            "Fold 1, Epoch [5/10], Train Loss: 1.0798, Val Loss: 1.0799\n",
            "Fold 1, Epoch [6/10], Train Loss: 1.0775, Val Loss: 1.0781\n",
            "Fold 1, Epoch [7/10], Train Loss: 1.0762, Val Loss: 1.0770\n",
            "Fold 1, Epoch [8/10], Train Loss: 1.0748, Val Loss: 1.0941\n",
            "Fold 1, Epoch [9/10], Train Loss: 1.0738, Val Loss: 1.0736\n",
            "Fold 1, Epoch [10/10], Train Loss: 1.0726, Val Loss: 1.0732\n",
            "\n",
            "\n",
            "Fold 2, Epoch [1/10], Train Loss: 1.1529, Val Loss: 1.1603\n",
            "Fold 2, Epoch [2/10], Train Loss: 1.0981, Val Loss: 1.1436\n",
            "Fold 2, Epoch [3/10], Train Loss: 1.0862, Val Loss: 1.1351\n",
            "Fold 2, Epoch [4/10], Train Loss: 1.0817, Val Loss: 1.1313\n",
            "Fold 2, Epoch [5/10], Train Loss: 1.0787, Val Loss: 1.1289\n",
            "Fold 2, Epoch [6/10], Train Loss: 1.0770, Val Loss: 1.1273\n",
            "Fold 2, Epoch [7/10], Train Loss: 1.0755, Val Loss: 1.1267\n",
            "Fold 2, Epoch [8/10], Train Loss: 1.0748, Val Loss: 1.1274\n",
            "Fold 2, Epoch [9/10], Train Loss: 1.0744, Val Loss: 1.1259\n",
            "Fold 2, Epoch [10/10], Train Loss: 1.0763, Val Loss: 1.1248\n",
            "\n",
            "\n",
            "Fold 3, Epoch [1/10], Train Loss: inf, Val Loss: 1.1345\n",
            "Fold 3, Epoch [2/10], Train Loss: 0.9261, Val Loss: 1.0925\n",
            "Fold 3, Epoch [3/10], Train Loss: 0.8936, Val Loss: 1.0730\n",
            "Fold 3, Epoch [4/10], Train Loss: 0.8832, Val Loss: 1.0691\n",
            "Fold 3, Epoch [5/10], Train Loss: 0.8789, Val Loss: 1.0648\n",
            "Fold 3, Epoch [6/10], Train Loss: 0.8763, Val Loss: 1.0619\n",
            "Fold 3, Epoch [7/10], Train Loss: 0.8746, Val Loss: 1.0616\n",
            "Fold 3, Epoch [8/10], Train Loss: 0.8736, Val Loss: 1.0593\n",
            "Fold 3, Epoch [9/10], Train Loss: 0.8716, Val Loss: 1.0574\n",
            "Fold 3, Epoch [10/10], Train Loss: 0.8697, Val Loss: 1.0554\n",
            "\n",
            "\n",
            "Fold 4, Epoch [1/10], Train Loss: 1.5122, Val Loss: 1.1191\n",
            "Fold 4, Epoch [2/10], Train Loss: 1.4772, Val Loss: 1.1078\n",
            "Fold 4, Epoch [3/10], Train Loss: 1.4694, Val Loss: 1.1000\n",
            "Fold 4, Epoch [4/10], Train Loss: 1.4634, Val Loss: 1.0951\n",
            "Fold 4, Epoch [5/10], Train Loss: 1.4598, Val Loss: 1.0926\n",
            "Fold 4, Epoch [6/10], Train Loss: 1.4575, Val Loss: 1.0893\n",
            "Fold 4, Epoch [7/10], Train Loss: inf, Val Loss: 1.0889\n",
            "Fold 4, Epoch [8/10], Train Loss: 1.4549, Val Loss: 1.0857\n",
            "Fold 4, Epoch [9/10], Train Loss: 1.4543, Val Loss: 1.0848\n",
            "Fold 4, Epoch [10/10], Train Loss: 1.4534, Val Loss: 1.0845\n",
            "\n",
            "\n",
            "Fold 5, Epoch [1/10], Train Loss: 1.3472, Val Loss: 1.1177\n",
            "Fold 5, Epoch [2/10], Train Loss: 1.3005, Val Loss: 1.0996\n",
            "Fold 5, Epoch [3/10], Train Loss: 1.2878, Val Loss: 1.0911\n",
            "Fold 5, Epoch [4/10], Train Loss: 1.2820, Val Loss: 1.0848\n",
            "Fold 5, Epoch [5/10], Train Loss: 1.2697, Val Loss: 1.0725\n",
            "Fold 5, Epoch [6/10], Train Loss: 1.2642, Val Loss: 1.0688\n",
            "Fold 5, Epoch [7/10], Train Loss: 1.2615, Val Loss: 1.0650\n",
            "Fold 5, Epoch [8/10], Train Loss: 1.2596, Val Loss: 1.0637\n",
            "Fold 5, Epoch [9/10], Train Loss: 1.2581, Val Loss: 1.0616\n",
            "Fold 5, Epoch [10/10], Train Loss: 1.2574, Val Loss: 1.0618\n",
            "\n",
            "\n",
            "\n",
            "Evaluating VariationalAutoEncoder\n",
            "Fold 1, Epoch [1/10], Train Loss: 1.0266, Val Loss: 1.2004\n",
            "Fold 1, Epoch [2/10], Train Loss: 1.0000, Val Loss: 1.2004\n",
            "Fold 1, Epoch [3/10], Train Loss: 1.0000, Val Loss: 1.2006\n",
            "Fold 1, Epoch [4/10], Train Loss: 1.0000, Val Loss: 1.2004\n",
            "Fold 1, Epoch [5/10], Train Loss: 1.0000, Val Loss: 1.2004\n",
            "Fold 1, Epoch [6/10], Train Loss: 1.0000, Val Loss: 1.2004\n",
            "Fold 1, Epoch [7/10], Train Loss: 1.0000, Val Loss: 1.2004\n",
            "Fold 1, Epoch [8/10], Train Loss: 1.0000, Val Loss: 1.2004\n",
            "Fold 1, Epoch [9/10], Train Loss: 1.0000, Val Loss: 1.2004\n",
            "Fold 1, Epoch [10/10], Train Loss: 1.0000, Val Loss: 1.2004\n",
            "\n",
            "\n",
            "Fold 2, Epoch [1/10], Train Loss: 1.0453, Val Loss: 1.2503\n",
            "Fold 2, Epoch [2/10], Train Loss: 1.0000, Val Loss: 1.2502\n",
            "Fold 2, Epoch [3/10], Train Loss: 1.0000, Val Loss: 1.2502\n",
            "Fold 2, Epoch [4/10], Train Loss: 1.0000, Val Loss: 1.2502\n",
            "Fold 2, Epoch [5/10], Train Loss: 1.0000, Val Loss: 1.2502\n",
            "Fold 2, Epoch [6/10], Train Loss: 1.0000, Val Loss: 1.2502\n",
            "Fold 2, Epoch [7/10], Train Loss: 1.0000, Val Loss: 1.2502\n",
            "Fold 2, Epoch [8/10], Train Loss: 1.0000, Val Loss: 1.2502\n",
            "Fold 2, Epoch [9/10], Train Loss: 1.0000, Val Loss: 1.2502\n",
            "Fold 2, Epoch [10/10], Train Loss: 1.0000, Val Loss: 1.2502\n",
            "\n",
            "\n",
            "Fold 3, Epoch [1/10], Train Loss: 1.0220, Val Loss: 1.1878\n",
            "Fold 3, Epoch [2/10], Train Loss: 1.0000, Val Loss: 1.1878\n",
            "Fold 3, Epoch [3/10], Train Loss: 1.0000, Val Loss: 1.1878\n",
            "Fold 3, Epoch [4/10], Train Loss: 1.0000, Val Loss: 1.1878\n",
            "Fold 3, Epoch [5/10], Train Loss: 1.0000, Val Loss: 1.1878\n",
            "Fold 3, Epoch [6/10], Train Loss: 1.0000, Val Loss: 1.1878\n",
            "Fold 3, Epoch [7/10], Train Loss: 1.0000, Val Loss: 1.1878\n",
            "Fold 3, Epoch [8/10], Train Loss: 1.0000, Val Loss: 1.1878\n",
            "Fold 3, Epoch [9/10], Train Loss: 1.0000, Val Loss: 1.1878\n",
            "Fold 3, Epoch [10/10], Train Loss: 1.0000, Val Loss: 1.1878\n",
            "\n",
            "\n",
            "Fold 4, Epoch [1/10], Train Loss: 1.0673, Val Loss: 1.2271\n",
            "Fold 4, Epoch [2/10], Train Loss: 1.0001, Val Loss: 1.2268\n",
            "Fold 4, Epoch [3/10], Train Loss: 1.0000, Val Loss: 1.2268\n",
            "Fold 4, Epoch [4/10], Train Loss: 1.0000, Val Loss: 1.2268\n",
            "Fold 4, Epoch [5/10], Train Loss: 1.0000, Val Loss: 1.2268\n",
            "Fold 4, Epoch [6/10], Train Loss: 1.0000, Val Loss: 1.2268\n",
            "Fold 4, Epoch [7/10], Train Loss: 1.0000, Val Loss: 1.2268\n",
            "Fold 4, Epoch [8/10], Train Loss: 1.0000, Val Loss: 1.2268\n",
            "Fold 4, Epoch [9/10], Train Loss: 1.0000, Val Loss: 1.2268\n",
            "Fold 4, Epoch [10/10], Train Loss: 1.0000, Val Loss: 1.2268\n",
            "\n",
            "\n",
            "Fold 5, Epoch [1/10], Train Loss: 1.0340, Val Loss: 1.2003\n",
            "Fold 5, Epoch [2/10], Train Loss: 1.0000, Val Loss: 1.2002\n",
            "Fold 5, Epoch [3/10], Train Loss: 1.0000, Val Loss: 1.2002\n",
            "Fold 5, Epoch [4/10], Train Loss: 1.0000, Val Loss: 1.2002\n",
            "Fold 5, Epoch [5/10], Train Loss: 1.0000, Val Loss: 1.2002\n",
            "Fold 5, Epoch [6/10], Train Loss: 1.0000, Val Loss: 1.2002\n",
            "Fold 5, Epoch [7/10], Train Loss: 1.0000, Val Loss: 1.2002\n",
            "Fold 5, Epoch [8/10], Train Loss: 1.0000, Val Loss: 1.2002\n",
            "Fold 5, Epoch [9/10], Train Loss: 1.0000, Val Loss: 1.2002\n",
            "Fold 5, Epoch [10/10], Train Loss: 1.0000, Val Loss: 1.2002\n",
            "\n",
            "\n"
          ]
        }
      ],
      "source": [
        "learning_rate = 0.001\n",
        "epochs = 10\n",
        "\n",
        "model_classes = [AutoEncoder, SparseAutoEncoder, VariationalAutoEncoder]\n",
        "results = {}\n",
        "train_losses_dict = {}\n",
        "val_losses_dict = {}\n",
        "metrics_dict = {}\n",
        "\n",
        "hard_threshold = None\n",
        "\n",
        "for model_class in model_classes:\n",
        "    print(f'\\nEvaluating {model_class.__name__}')\n",
        "    avg_train_losses, avg_val_losses, all_labels, all_scores, hard_threshold = cross_validate_model(model_class, splits, learning_rate, epochs, hard_threshold)\n",
        "    train_losses_dict[model_class.__name__] = avg_train_losses\n",
        "    val_losses_dict[model_class.__name__] = avg_val_losses\n",
        "\n",
        "    # Compute basic metrics\n",
        "    # threshold = np.percentile(all_scores, 95)  # Example threshold\n",
        "    predictions = (np.array(all_scores) > hard_threshold).astype(int)\n",
        "    accuracy = accuracy_score(all_labels, predictions)\n",
        "    precision = precision_score(all_labels, predictions)\n",
        "    recall = recall_score(all_labels, predictions)\n",
        "    f1 = f1_score(all_labels, predictions)\n",
        "\n",
        "    metrics_dict[model_class.__name__] = (accuracy, precision, recall, f1)"
      ]
    },
    {
      "cell_type": "code",
      "execution_count": 20,
      "metadata": {
        "colab": {
          "base_uri": "https://localhost:8080/"
        },
        "id": "deXRQn69U_Xo",
        "outputId": "c991367f-077d-42cd-ab3b-a534e107d23a"
      },
      "outputs": [
        {
          "name": "stdout",
          "output_type": "stream",
          "text": [
            "{'AutoEncoder': (0.9592537703774736, 0.17368234877962505, 0.9979674796747967, 0.29587225067791506), 'SparseAutoEncoder': (0.9583610844738907, 0.17059273156834132, 0.9979674796747967, 0.2913773663284078), 'VariationalAutoEncoder': (0.947872025106791, 0.14110006322202426, 0.9979674796747967, 0.2472430635983685)}\n"
          ]
        }
      ],
      "source": [
        "import pickle\n",
        "\n",
        "# Save the dictionary to a file\n",
        "with open('metrics_dict.pkl', 'wb') as f:\n",
        "    pickle.dump(metrics_dict, f)\n",
        "\n",
        "# Load the dictionary from the file\n",
        "with open('metrics_dict.pkl', 'rb') as f:\n",
        "    loaded_metrics_dict = pickle.load(f)\n",
        "\n",
        "print(loaded_metrics_dict)"
      ]
    },
    {
      "cell_type": "markdown",
      "metadata": {
        "id": "52Ewf-NhxR7Y"
      },
      "source": [
        "#"
      ]
    },
    {
      "cell_type": "markdown",
      "metadata": {
        "id": "pCeavvpDEcAS"
      },
      "source": [
        "# Plot losses and metrics"
      ]
    },
    {
      "cell_type": "code",
      "execution_count": 13,
      "metadata": {
        "colab": {
          "base_uri": "https://localhost:8080/",
          "height": 851
        },
        "id": "5G8l-idalw2P",
        "outputId": "b0c19697-cb2b-41e1-fc6c-d67ebfd0b061"
      },
      "outputs": [
        {
          "data": {
            "image/png": "[encoded data removed]",
            "text/plain": [
              "<Figure size 1000x600 with 1 Axes>"
            ]
          },
          "metadata": {},
          "output_type": "display_data"
        },
        {
          "name": "stdout",
          "output_type": "stream",
          "text": [
            "AutoEncoder Metrics:\n",
            "Accuracy: 0.9593\n",
            "Precision: 0.1737\n",
            "Recall: 0.9980\n",
            "F1 Score: 0.2959\n",
            "\n",
            "SparseAutoEncoder Metrics:\n",
            "Accuracy: 0.9584\n",
            "Precision: 0.1706\n",
            "Recall: 0.9980\n",
            "F1 Score: 0.2914\n",
            "\n",
            "VariationalAutoEncoder Metrics:\n",
            "Accuracy: 0.9479\n",
            "Precision: 0.1411\n",
            "Recall: 0.9980\n",
            "F1 Score: 0.2472\n",
            "\n",
            "AutoEncoder F2-Score: 0.4506\n",
            "SparseAutoEncoder F2-Score: 0.4506\n",
            "VariationalAutoEncoder F2-Score: 0.4506\n"
          ]
        }
      ],
      "source": [
        "# Plot training and validation losses for each autoencoder\n",
        "plt.figure(figsize=(10, 6))\n",
        "colors = plt.rcParams['axes.prop_cycle'].by_key()['color']  # Get default color cycle\n",
        "\n",
        "for i, (model_name, losses) in enumerate(train_losses_dict.items()):\n",
        "    plt.plot(losses, color=colors[i], label=f'{model_name} Train Loss')\n",
        "    plt.plot(val_losses_dict[model_name], color=colors[i], linestyle='--', label=f'{model_name} Validation Loss')\n",
        "plt.xlabel('Epoch')\n",
        "plt.ylabel('Loss')\n",
        "plt.title('Average Training and Validation Loss for Each Autoencoder')\n",
        "plt.legend(bbox_to_anchor=(1.05, 1), loc='upper left')\n",
        "\n",
        "plt.show()\n",
        "\n",
        "# Print average metrics for each autoencoder\n",
        "for model_name, (accuracy, precision, recall, f1) in metrics_dict.items():\n",
        "    print(f'{model_name} Metrics:')\n",
        "    print(f'Accuracy: {accuracy:.4f}')\n",
        "    print(f'Precision: {precision:.4f}')\n",
        "    print(f'Recall: {recall:.4f}')\n",
        "    print(f'F1 Score: {f1:.4f}\\n')\n",
        "\n",
        "# Utilizing F-beta score\n",
        "beta = 2\n",
        "for model_name, (accuracy, precision, recall, f1) in metrics_dict.items():\n",
        "    fbeta = fbeta_score(all_labels, predictions, beta=beta)\n",
        "    print(f'{model_name} F{beta}-Score: {fbeta:.4f}')"
      ]
    },
    {
      "cell_type": "code",
      "execution_count": null,
      "metadata": {},
      "outputs": [],
      "source": [
        "# XV OC-SVM\n",
        "# def cross_validate_ocsvm(splits, threshold=None):\n",
        "#     all_labels = []\n",
        "#     all_scores = []\n",
        "#     accuracies = []\n",
        "#     precisions = []\n",
        "#     recalls = []\n",
        "#     f1s = []\n",
        "\n",
        "#     for fold, (train_loader, val_loader, y_val, input_dim) in enumerate(splits):\n",
        "#         train_data = train_loader.dataset.tensors[0].cpu().numpy()\n",
        "#         test_data = val_loader.dataset.tensors[0].cpu().numpy()\n",
        "\n",
        "#         ocsvm = OneClassSVM(gamma='auto').fit(train_data)\n",
        "#         y_pred = ocsvm.predict(test_data)\n",
        "#         y_pred = np.where(y_pred == 1, 0, 1)  # Convert OCSVM output: 1->0 (normal), -1->1 (anomaly)\n",
        "\n",
        "#         all_labels.extend(y_val)\n",
        "#         all_scores.extend(y_pred)\n",
        "\n",
        "#         accuracy = accuracy_score(y_val, y_pred)\n",
        "#         precision = precision_score(y_val, y_pred)\n",
        "#         recall = recall_score(y_val, y_pred)\n",
        "#         f1 = f1_score(y_val, y_pred)\n",
        "\n",
        "#         accuracies.append(accuracy)\n",
        "#         precisions.append(precision)\n",
        "#         recalls.append(recall)\n",
        "#         f1s.append(f1)\n",
        "\n",
        "#         print(f' {fold+1} done for OC-SVM!')\n",
        "\n",
        "#     avg_accuracy = np.mean(accuracies)\n",
        "#     avg_precision = np.mean(precisions)\n",
        "#     avg_recall = np.mean(recalls)\n",
        "#     avg_f1 = np.mean(f1s)\n",
        "\n",
        "#     fpr, tpr, _ = roc_curve(all_labels, all_scores)\n",
        "#     roc_auc = auc(fpr, tpr)\n",
        "\n",
        "#     return avg_accuracy, avg_precision, avg_recall, avg_f1, fpr, tpr, roc_auc, threshold\n",
        "# # Cross-validate One-Class SVM\n",
        "# print('\\nEvaluating One-Class SVM')\n",
        "# ocsvm_accuracy, ocsvm_precision, ocsvm_recall, ocsvm_f1, ocsvm_fpr, ocsvm_tpr, ocsvm_roc_auc, hard_threshold = cross_validate_ocsvm(splits, hard_threshold)\n",
        "\n",
        "# metrics_dict['OneClassSVM'] = (ocsvm_accuracy, ocsvm_precision, ocsvm_recall, ocsvm_f1)\n",
        "\n",
        "# # Plot ROC curve for One-Class SVM\n",
        "# plt.figure()\n",
        "# plt.plot(ocsvm_fpr, ocsvm_tpr, color='darkorange', lw=2, label=f'ROC curve (area = {ocsvm_roc_auc:.2f})')\n",
        "# plt.plot([0, 1], [0, 1], color='navy', lw=2, linestyle='--')\n",
        "# plt.xlim([0.0, 1.0])\n",
        "# plt.ylim([0.0, 1.05])\n",
        "# plt.xlabel('False Positive Rate')\n",
        "# plt.ylabel('True Positive Rate')\n",
        "# plt.title('Receiver Operating Characteristic - One-Class SVM')\n",
        "# plt.legend(loc='lower right')\n",
        "# plt.show()"
      ]
    }
  ],
  "metadata": {
    "accelerator": "GPU",
    "colab": {
      "collapsed_sections": [
        "Qd-2MEyejWaA",
        "ZgjoQmCiz6JW"
      ],
      "gpuType": "T4",
      "provenance": []
    },
    "kernelspec": {
      "display_name": "Python 3",
      "name": "python3"
    },
    "language_info": {
      "codemirror_mode": {
        "name": "ipython",
        "version": 3
      },
      "file_extension": ".py",
      "mimetype": "text/x-python",
      "name": "python",
      "nbconvert_exporter": "python",
      "pygments_lexer": "ipython3",
      "version": "3.11.8"
    }
  },
  "nbformat": 4,
  "nbformat_minor": 0
}

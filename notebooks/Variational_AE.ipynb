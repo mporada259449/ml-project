{
 "cells": [
  {
   "cell_type": "code",
   "execution_count": 1,
   "metadata": {},
   "outputs": [],
   "source": [
    "import pandas as pd\n",
    "import numpy as np\n",
    "import torch\n",
    "from torch import nn\n",
    "from torch.utils.data import DataLoader, TensorDataset\n",
    "from sklearn.model_selection import train_test_split\n",
    "from sklearn.preprocessing import StandardScaler\n",
    "from sklearn.metrics import accuracy_score, precision_score, recall_score, f1_score, confusion_matrix, roc_curve, auc\n",
    "import seaborn as sb\n",
    "import matplotlib.pyplot as plt"
   ]
  },
  {
   "cell_type": "code",
   "execution_count": 2,
   "metadata": {},
   "outputs": [],
   "source": [
    "# Load data\n",
    "df = pd.read_csv('../data/creditcard.csv')\n",
    "\n",
    "# Check for missing values\n",
    "if df.isnull().values.any():\n",
    "    df = df.dropna()  # Drop rows with any missing values if any\n",
    "\n",
    "# Drop irrelevant feature\n",
    "df.drop('Time', axis=1, inplace=True)\n",
    "\n",
    "# Scale the 'Amount' column\n",
    "scaler = StandardScaler()\n",
    "df['Amount'] = scaler.fit_transform(df['Amount'].values.reshape(-1, 1))"
   ]
  },
  {
   "cell_type": "code",
   "execution_count": 4,
   "metadata": {},
   "outputs": [],
   "source": [
    "# Separate features and labels\n",
    "X = df.drop('Class', axis=1)\n",
    "y = df['Class']\n",
    "\n",
    "# Filter the data to have only normal transactions for training\n",
    "normal_data = df[df['Class'] == 0]\n",
    "fraud_data = df[df['Class'] == 1]\n",
    "normal_unlabeled = normal_data.drop('Class', axis=1)\n",
    "fraud_unlabeled = fraud_data.drop('Class', axis=1)\n",
    "#normalize data\n",
    "#X_mean = X.mean()\n",
    "#X_std = X.std()\n",
    "#normal_data = (normal_unlabeled - X_mean)/X_std\n",
    "#fraud_data = (fraud_unlabeled - X_mean)/X_std\n",
    "#\n",
    "#normal_data = normal_data.assign(Class=0)\n",
    "#fraud_data = fraud_data.assign(Class=1)\n",
    "#\n",
    "#normal_data.head()"
   ]
  },
  {
   "cell_type": "code",
   "execution_count": 5,
   "metadata": {},
   "outputs": [],
   "source": [
    "# Split the normal data into training and test sets\n",
    "X_train, X_test_normal, _, y_test_normal = train_test_split(\n",
    "    normal_data.drop('Class', axis=1), normal_data['Class'], test_size=0.2, random_state=42)\n",
    "\n",
    "# Include all fraud transactions and a portion of normal transactions in the test set\n",
    "X_test = pd.concat([X_test_normal, fraud_data.drop('Class', axis=1)])\n",
    "y_test = pd.concat([y_test_normal, fraud_data['Class']])"
   ]
  },
  {
   "cell_type": "code",
   "execution_count": 6,
   "metadata": {},
   "outputs": [],
   "source": [
    "# Normalize the data\n",
    "X_train_scaled = scaler.fit_transform(X_train)\n",
    "X_test_scaled = scaler.transform(X_test)\n",
    "\n",
    "# Convert to PyTorch tensors\n",
    "X_train_tensor = torch.tensor(X_train_scaled, dtype=torch.float32)\n",
    "X_test_tensor = torch.tensor(X_test_scaled, dtype=torch.float32)\n",
    "\n",
    "# Define datasets\n",
    "train_data = TensorDataset(X_train_tensor, X_train_tensor)\n",
    "test_data = TensorDataset(X_test_tensor, X_test_tensor)\n",
    "\n",
    "# DataLoaders\n",
    "train_loader = DataLoader(train_data, batch_size=32, shuffle=True)\n",
    "test_loader = DataLoader(test_data, batch_size=32, shuffle=False)"
   ]
  },
  {
   "cell_type": "code",
   "execution_count": 7,
   "metadata": {},
   "outputs": [],
   "source": [
    "# Define the AutoEncoder model\n",
    "class VariationalAE(nn.Module):\n",
    "    def __init__(self):\n",
    "        super(VariationalAE, self).__init__()\n",
    "        self.encoder = nn.Sequential(\n",
    "            nn.Linear(X.shape[1], 14),\n",
    "            nn.LeakyReLU(),\n",
    "            nn.Linear(14, 7),\n",
    "            nn.LeakyReLU()\n",
    "        )\n",
    "        self.decoder = nn.Sequential(\n",
    "            nn.Linear(2, 7),\n",
    "            nn.LeakyReLU(),\n",
    "            nn.Linear(7, 14),\n",
    "            nn.LeakyReLU(),\n",
    "            nn.Linear(14, X.shape[1]),\n",
    "            nn.Sigmoid()\n",
    "        )\n",
    "        self.mean_layer = nn.Linear(7, 2)\n",
    "        self.logvar_layer = nn.Linear(7, 2)\n",
    "        \n",
    "    def encode(self, x):\n",
    "        x = self.encoder(x)\n",
    "        mean, logvar = self.mean_layer(x), self.logvar_layer(x)\n",
    "        return mean, logvar\n",
    "\n",
    "    def reparameterization(self, mean, var):\n",
    "        epsilon = torch.randn_like(var).cpu()\n",
    "        z = mean + var*epsilon\n",
    "        #z = torch.sigmoid(z)\n",
    "        #print(z)\n",
    "        return z\n",
    "    \n",
    "    def decode(self, x):\n",
    "        return self.decoder(x)\n",
    "     \n",
    "    def forward(self, x):\n",
    "        mean, logvar = self.encode(x)\n",
    "        z = self.reparameterization(mean, logvar)\n",
    "        x_hat = self.decode(z)\n",
    "        return x_hat, mean, logvar\n",
    "    \n",
    "    \n",
    "# Initialize the model, loss function, and optimizer\n",
    "model = VariationalAE()\n",
    "criterion = nn.MSELoss()\n",
    "def loss_function(x, x_hat, mean, log_var):\n",
    "    reproduction_loss = nn.functional.mse_loss(x_hat, x, reduction='mean')\n",
    "    KLD = - 0.5 * torch.sum(1+ log_var - mean.pow(2) - log_var.exp())\n",
    "    return reproduction_loss + KLD\n",
    "\n",
    "optimizer = torch.optim.Adam(model.parameters(), lr=0.001)"
   ]
  },
  {
   "cell_type": "code",
   "execution_count": 8,
   "metadata": {},
   "outputs": [],
   "source": [
    "def train_model(model, dataloader):\n",
    "    model.train()\n",
    "    total_loss = 0\n",
    "    for data, target in dataloader:\n",
    "        optimizer.zero_grad()\n",
    "        x_hat, mean, logvar = model(data)\n",
    "        loss = loss_function(data, x_hat, mean, logvar)\n",
    "        loss.backward()\n",
    "        optimizer.step()\n",
    "        total_loss += loss.item()\n",
    "    return total_loss / len(dataloader)"
   ]
  },
  {
   "cell_type": "code",
   "execution_count": 9,
   "metadata": {},
   "outputs": [
    {
     "name": "stdout",
     "output_type": "stream",
     "text": [
      "Epoch 1, Loss: 1.0331347686315628\n",
      "Epoch 2, Loss: 1.0000378607227753\n",
      "Epoch 3, Loss: 0.9999982048000052\n",
      "Epoch 4, Loss: 1.0000325216082087\n",
      "Epoch 5, Loss: 0.9999968222581944\n",
      "Epoch 6, Loss: 0.9999966875439825\n",
      "Epoch 7, Loss: 1.0000018719195918\n",
      "Epoch 8, Loss: 0.9999958393308106\n",
      "Epoch 9, Loss: 0.9999986046492282\n",
      "Epoch 10, Loss: 0.999997978842386\n",
      "Epoch 11, Loss: 0.9999930005673618\n",
      "Epoch 12, Loss: 1.000001153615699\n",
      "Epoch 13, Loss: 0.9999991683860676\n",
      "Epoch 14, Loss: 0.9999938094647801\n",
      "Epoch 15, Loss: 0.9999969927787982\n",
      "Epoch 16, Loss: 1.000014911618002\n",
      "Epoch 17, Loss: 1.0000030584444675\n",
      "Epoch 18, Loss: 0.9999936477029062\n",
      "Epoch 19, Loss: 0.9999937747862477\n",
      "Epoch 20, Loss: 0.9999984843498143\n",
      "Epoch 21, Loss: 0.9999976907937997\n",
      "Epoch 22, Loss: 0.9999991394474591\n",
      "Epoch 23, Loss: 0.9999953248633987\n",
      "Epoch 24, Loss: 0.9999976552515535\n",
      "Epoch 25, Loss: 0.999999258434531\n",
      "Epoch 26, Loss: 1.000005048390983\n",
      "Epoch 27, Loss: 0.9999954135533995\n",
      "Epoch 28, Loss: 1.0000436895170035\n",
      "Epoch 29, Loss: 1.0000032463735185\n",
      "Epoch 30, Loss: 0.9999948029999124\n",
      "Epoch 31, Loss: 0.9999938821467242\n",
      "Epoch 32, Loss: 1.0000500372062255\n",
      "Epoch 33, Loss: 0.9999954765583936\n",
      "Epoch 34, Loss: 0.9999954980296504\n",
      "Epoch 35, Loss: 0.9999945960859268\n",
      "Epoch 36, Loss: 0.9999953523638816\n",
      "Epoch 37, Loss: 0.9999956546595543\n",
      "Epoch 38, Loss: 0.9999972896909338\n",
      "Epoch 39, Loss: 1.0000038199047057\n",
      "Epoch 40, Loss: 0.9999945326071478\n",
      "Epoch 41, Loss: 1.0000013447648095\n",
      "Epoch 42, Loss: 1.0000051295717043\n",
      "Epoch 43, Loss: 0.9999990424892845\n",
      "Epoch 44, Loss: 1.0000040499460985\n",
      "Epoch 45, Loss: 1.0000039932386688\n",
      "Epoch 46, Loss: 1.000006712365164\n",
      "Epoch 47, Loss: 0.9999951034675305\n",
      "Epoch 48, Loss: 0.9999938920333135\n",
      "Epoch 49, Loss: 0.9999960544123432\n",
      "Epoch 50, Loss: 0.9999954698038155\n"
     ]
    }
   ],
   "source": [
    "epoch_losses = []\n",
    "epochs = 50\n",
    "for epoch in range(epochs):\n",
    "    loss = train_model(model, train_loader)\n",
    "    epoch_losses.append(loss)\n",
    "    print(f'Epoch {epoch+1}, Loss: {loss}')"
   ]
  },
  {
   "cell_type": "code",
   "execution_count": 15,
   "metadata": {},
   "outputs": [],
   "source": [
    "def evaluate_model(model, dataloader):\n",
    "    model.eval()\n",
    "    losses = []\n",
    "    with torch.no_grad():\n",
    "        for data, _ in dataloader:\n",
    "            x_hat, mean, logvar = model(data)\n",
    "            loss = loss_function(data, x_hat, mean, logvar)\n",
    "            losses.extend(loss.item() for _ in range(data.size(0)))\n",
    "    return losses"
   ]
  },
  {
   "cell_type": "code",
   "execution_count": 16,
   "metadata": {},
   "outputs": [
    {
     "name": "stdout",
     "output_type": "stream",
     "text": [
      "Average Training Reconstruction Loss: 1.0000000610731938\n",
      "Average Test Reconstruction Loss: 1.2170860417645122\n",
      "Anomaly Detection Threshold: 1.7696905136108398\n"
     ]
    }
   ],
   "source": [
    "train_loss = evaluate_model(model, train_loader)\n",
    "average_train_loss = np.mean(train_loss)\n",
    "print(f'Average Training Reconstruction Loss: {average_train_loss}')\n",
    "\n",
    "# Evaluate model to get losses for each instance in the test set\n",
    "test_losses = evaluate_model(model, test_loader)\n",
    "average_test_loss = np.mean(test_losses)\n",
    "print(f'Average Test Reconstruction Loss: {average_test_loss}')\n",
    "\n",
    "# Determine the threshold for anomaly detection (setting at the 95th percentile of test losses)\n",
    "threshold = np.quantile(test_losses, 0.95)\n",
    "print(f'Anomaly Detection Threshold: {threshold}')"
   ]
  },
  {
   "cell_type": "code",
   "execution_count": 17,
   "metadata": {},
   "outputs": [
    {
     "name": "stdout",
     "output_type": "stream",
     "text": [
      "Accuracy: 0.9586958416877343, \n",
      "Precision: 0.17173837005946135, \n",
      "Recall: 0.9979674796747967, \n",
      "F1 Score: 0.29304685168606387\n"
     ]
    },
    {
     "data": {
      "image/png": "[encoded data removed]",
      "text/plain": [
       "<Figure size 640x480 with 2 Axes>"
      ]
     },
     "metadata": {},
     "output_type": "display_data"
    }
   ],
   "source": [
    "# Generate binary predictions based on the threshold\n",
    "predicted_anomalies = np.array([1 if loss > threshold else 0 for loss in test_losses])\n",
    "actual_anomalies = y_test.to_numpy()\n",
    "\n",
    "# Calculate evaluation metrics\n",
    "accuracy = accuracy_score(actual_anomalies, predicted_anomalies)\n",
    "precision = precision_score(actual_anomalies, predicted_anomalies)\n",
    "recall = recall_score(actual_anomalies, predicted_anomalies)\n",
    "f1 = f1_score(actual_anomalies, predicted_anomalies)\n",
    "\n",
    "print(f'Accuracy: {accuracy}, \\nPrecision: {precision}, \\nRecall: {recall}, \\nF1 Score: {f1}')\n",
    "\n",
    "# Plotting the confusion matrix\n",
    "conf_matrix = confusion_matrix(actual_anomalies, predicted_anomalies)\n",
    "sb.heatmap(conf_matrix, annot=True, fmt=\"d\", cmap='Blues')\n",
    "plt.xlabel('Predicted Labels')\n",
    "plt.ylabel('True Labels')\n",
    "plt.title('Confusion Matrix')\n",
    "plt.show()"
   ]
  },
  {
   "cell_type": "code",
   "execution_count": null,
   "metadata": {},
   "outputs": [],
   "source": []
  }
 ],
 "metadata": {
  "kernelspec": {
   "display_name": "venv",
   "language": "python",
   "name": "python3"
  },
  "language_info": {
   "codemirror_mode": {
    "name": "ipython",
    "version": 3
   },
   "file_extension": ".py",
   "mimetype": "text/x-python",
   "name": "python",
   "nbconvert_exporter": "python",
   "pygments_lexer": "ipython3",
   "version": "3.10.12"
  }
 },
 "nbformat": 4,
 "nbformat_minor": 2
}

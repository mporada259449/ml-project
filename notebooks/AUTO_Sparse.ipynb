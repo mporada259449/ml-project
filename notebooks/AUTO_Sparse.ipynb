{
 "cells": [
  {
   "cell_type": "code",
   "execution_count": 4,
   "metadata": {},
   "outputs": [],
   "source": [
    "import pandas as pd\n",
    "import numpy as np\n",
    "import torch\n",
    "from torch import nn\n",
    "from torch.utils.data import DataLoader, TensorDataset\n",
    "from sklearn.model_selection import train_test_split\n",
    "from sklearn.preprocessing import StandardScaler\n",
    "from sklearn.metrics import accuracy_score, precision_score, recall_score, f1_score, confusion_matrix, roc_curve, auc\n",
    "import seaborn as sb\n",
    "import matplotlib.pyplot as plt"
   ]
  },
  {
   "cell_type": "code",
   "execution_count": 7,
   "metadata": {},
   "outputs": [],
   "source": [
    "# Load data\n",
    "df = pd.read_csv('../data/creditcard.csv')\n",
    "\n",
    "# Check for missing values\n",
    "if df.isnull().values.any():\n",
    "    df = df.dropna()  # Drop rows with any missing values if any\n",
    "\n",
    "# Drop irrelevant feature\n",
    "df.drop('Time', axis=1, inplace=True)\n",
    "\n",
    "# Scale the 'Amount' column\n",
    "scaler = StandardScaler()\n",
    "df['Amount'] = scaler.fit_transform(df['Amount'].values.reshape(-1, 1))"
   ]
  },
  {
   "cell_type": "code",
   "execution_count": 8,
   "metadata": {},
   "outputs": [],
   "source": [
    "# Separate features and labels\n",
    "X = df.drop('Class', axis=1)\n",
    "y = df['Class']\n",
    "\n",
    "# Filter the data to have only normal transactions for training\n",
    "normal_data = df[df['Class'] == 0]\n",
    "fraud_data = df[df['Class'] == 1]\n"
   ]
  },
  {
   "cell_type": "code",
   "execution_count": 9,
   "metadata": {},
   "outputs": [],
   "source": [
    "# Split the normal data into training and test sets\n",
    "X_train, X_test_normal, _, y_test_normal = train_test_split(\n",
    "    normal_data.drop('Class', axis=1), normal_data['Class'], test_size=0.2, random_state=42)\n",
    "\n",
    "# Include all fraud transactions and a portion of normal transactions in the test set\n",
    "X_test = pd.concat([X_test_normal, fraud_data.drop('Class', axis=1)])\n",
    "y_test = pd.concat([y_test_normal, fraud_data['Class']])"
   ]
  },
  {
   "cell_type": "code",
   "execution_count": 10,
   "metadata": {},
   "outputs": [],
   "source": [
    "# Normalize the data\n",
    "X_train_scaled = scaler.fit_transform(X_train)\n",
    "X_test_scaled = scaler.transform(X_test)\n",
    "\n",
    "# Convert to PyTorch tensors\n",
    "X_train_tensor = torch.tensor(X_train_scaled, dtype=torch.float32)\n",
    "X_test_tensor = torch.tensor(X_test_scaled, dtype=torch.float32)\n",
    "\n",
    "# Define datasets\n",
    "train_data = TensorDataset(X_train_tensor, X_train_tensor)\n",
    "test_data = TensorDataset(X_test_tensor, X_test_tensor)\n",
    "\n",
    "# DataLoaders\n",
    "train_loader = DataLoader(train_data, batch_size=32, shuffle=True)\n",
    "test_loader = DataLoader(test_data, batch_size=32, shuffle=False)"
   ]
  },
  {
   "cell_type": "code",
   "execution_count": 11,
   "metadata": {},
   "outputs": [],
   "source": [
    "# Define the AutoEncoder model\n",
    "class AutoEncoder(nn.Module):\n",
    "    def __init__(self, sparsity_target, sparsity_weight):\n",
    "        super(AutoEncoder, self).__init__()\n",
    "        self.encoder = nn.Sequential(\n",
    "            nn.Linear(X.shape[1], 14),\n",
    "            nn.LeakyReLU(),\n",
    "            nn.Linear(14, 7),\n",
    "            nn.LeakyReLU()\n",
    "        )\n",
    "        self.decoder = nn.Sequential(\n",
    "            nn.Linear(7, 14),\n",
    "            nn.LeakyReLU(),\n",
    "            nn.Linear(14, X.shape[1]),\n",
    "            nn.Sigmoid()\n",
    "        )\n",
    "        self.sparsity_target = sparsity_target\n",
    "        self.sparsity_weight = sparsity_weight\n",
    "\n",
    "    def forward(self, x):\n",
    "        encoded = self.encoder(x)\n",
    "        self.data_rho = encoded.mean(0)\n",
    "        decoded = self.decoder(encoded)\n",
    "        return decoded\n",
    "    \n",
    "    def kl_divergence(self, rho_hat):\n",
    "        rho = self.sparsity_target\n",
    "        return rho * torch.log(rho / rho_hat) + (1 - rho) * torch.log((1 - rho) / (1 - rho_hat))\n",
    "\n",
    "    def loss_function(self, output, target, rho_hat):\n",
    "        reconstruction_loss = torch.nn.functional.mse_loss(output, target, reduction='mean')\n",
    "        sparsity_loss = self.sparsity_weight * torch.sum(self.kl_divergence(rho_hat))\n",
    "        return reconstruction_loss + sparsity_loss\n",
    "    \n",
    "# Initialize the model, loss function, and optimizer\n",
    "sparsity_target = 0.5\n",
    "sparsity_waight = 0.5\n",
    "model = AutoEncoder(sparsity_target=sparsity_target, sparsity_weight=sparsity_waight)\n",
    "criterion = nn.MSELoss()\n",
    "optimizer = torch.optim.Adam(model.parameters(), lr=0.001)"
   ]
  },
  {
   "cell_type": "code",
   "execution_count": 12,
   "metadata": {},
   "outputs": [],
   "source": [
    "# Training the model\n",
    "def train_model(model, dataloader):\n",
    "    model.train()\n",
    "    total_loss = 0\n",
    "    for data, target in dataloader:\n",
    "        optimizer.zero_grad()\n",
    "        output = model(data)\n",
    "        rho_hat = torch.mean(model.encoder(data), dim=0)\n",
    "        loss = model.loss_function(output, target, rho_hat)\n",
    "        loss.backward()\n",
    "        optimizer.step()\n",
    "        total_loss += loss.item()\n",
    "    return total_loss / len(dataloader)"
   ]
  },
  {
   "cell_type": "code",
   "execution_count": 13,
   "metadata": {},
   "outputs": [
    {
     "name": "stdout",
     "output_type": "stream",
     "text": [
      "Epoch 1, Loss: nan\n",
      "Epoch 2, Loss: 0.8795459111570708\n",
      "Epoch 3, Loss: 0.8472721674382586\n",
      "Epoch 4, Loss: 0.8268329384760301\n",
      "Epoch 5, Loss: 0.8199262020456436\n",
      "Epoch 6, Loss: 0.8165978227328503\n",
      "Epoch 7, Loss: 0.8142247587928761\n",
      "Epoch 8, Loss: 0.8115518853890138\n",
      "Epoch 9, Loss: 0.8097474838894743\n",
      "Epoch 10, Loss: 0.808046072549577\n",
      "Epoch 11, Loss: 0.8067569172845238\n",
      "Epoch 12, Loss: 0.8056581541183093\n",
      "Epoch 13, Loss: 0.8048668725224244\n",
      "Epoch 14, Loss: 0.8040276722260319\n",
      "Epoch 15, Loss: 0.8031078102753682\n",
      "Epoch 16, Loss: 0.8019487328437452\n",
      "Epoch 17, Loss: 0.8009455622282334\n",
      "Epoch 18, Loss: 0.8003453801422221\n",
      "Epoch 19, Loss: 0.7997337900349513\n",
      "Epoch 20, Loss: 0.7993230257239916\n",
      "Epoch 21, Loss: 0.7989302164359783\n",
      "Epoch 22, Loss: 0.7984570029097859\n",
      "Epoch 23, Loss: 0.7982747327110776\n",
      "Epoch 24, Loss: 0.7979731268438651\n",
      "Epoch 25, Loss: 0.7978980001827338\n",
      "Epoch 26, Loss: 0.7975775301540308\n",
      "Epoch 27, Loss: 0.7975724340659148\n",
      "Epoch 28, Loss: 0.7971279411359188\n",
      "Epoch 29, Loss: 0.7970858189326092\n",
      "Epoch 30, Loss: 0.7969375058262282\n",
      "Epoch 31, Loss: 0.7967274211133271\n",
      "Epoch 32, Loss: 0.7965482706366527\n",
      "Epoch 33, Loss: 0.7963716308505064\n",
      "Epoch 34, Loss: 0.7963177074767863\n",
      "Epoch 35, Loss: 0.7962692683383394\n",
      "Epoch 36, Loss: 0.796090852123301\n",
      "Epoch 37, Loss: 0.7959804537930916\n",
      "Epoch 38, Loss: 0.7959322055689593\n",
      "Epoch 39, Loss: 0.7959291692833653\n",
      "Epoch 40, Loss: 0.7956837525336542\n",
      "Epoch 41, Loss: 0.7955386732937113\n",
      "Epoch 42, Loss: 0.7956737628857541\n",
      "Epoch 43, Loss: 0.7954093277596931\n",
      "Epoch 44, Loss: 0.7953245329534867\n",
      "Epoch 45, Loss: 0.7955156927682002\n",
      "Epoch 46, Loss: 0.7954337988583372\n",
      "Epoch 47, Loss: 0.795171329293549\n",
      "Epoch 48, Loss: 0.7953815874158833\n",
      "Epoch 49, Loss: 0.7949503454503949\n",
      "Epoch 50, Loss: 0.7950049906876829\n"
     ]
    }
   ],
   "source": [
    "# Train the AutoEncoder\n",
    "epoch_losses = []\n",
    "epochs = 50\n",
    "for epoch in range(epochs):\n",
    "    loss = train_model(model, train_loader)\n",
    "    epoch_losses.append(loss)\n",
    "    print(f'Epoch {epoch+1}, Loss: {loss}')"
   ]
  },
  {
   "cell_type": "code",
   "execution_count": 14,
   "metadata": {},
   "outputs": [],
   "source": [
    "# Modify the evaluation function to return actual loss values per instance\n",
    "def evaluate_model(model, dataloader, criterion):\n",
    "    model.eval()\n",
    "    losses = []\n",
    "    with torch.no_grad():\n",
    "        for data, _ in dataloader:\n",
    "            output = model(data)\n",
    "            loss = criterion(output, data)\n",
    "            losses.extend(loss.item() for _ in range(data.size(0)))\n",
    "    return losses"
   ]
  },
  {
   "cell_type": "code",
   "execution_count": 15,
   "metadata": {},
   "outputs": [
    {
     "name": "stdout",
     "output_type": "stream",
     "text": [
      "Average Training Reconstruction Loss: 0.7923528114750578\n",
      "Average Test Reconstruction Loss: 1.0130028815789498\n",
      "Anomaly Detection Threshold: 1.5055391788482666\n"
     ]
    }
   ],
   "source": [
    "# Evaluate model to get losses for each instance in the train set\n",
    "train_loss = evaluate_model(model, train_loader, criterion)\n",
    "average_train_loss = np.mean(train_loss)\n",
    "print(f'Average Training Reconstruction Loss: {average_train_loss}')\n",
    "\n",
    "# Evaluate model to get losses for each instance in the test set\n",
    "test_losses = evaluate_model(model, test_loader, criterion)\n",
    "average_test_loss = np.mean(test_losses)\n",
    "print(f'Average Test Reconstruction Loss: {average_test_loss}')\n",
    "\n",
    "# Determine the threshold for anomaly detection (setting at the 95th percentile of test losses)\n",
    "threshold = np.quantile(test_losses, 0.95)\n",
    "print(f'Anomaly Detection Threshold: {threshold}')"
   ]
  },
  {
   "cell_type": "code",
   "execution_count": 16,
   "metadata": {},
   "outputs": [
    {
     "name": "stdout",
     "output_type": "stream",
     "text": [
      "Accuracy: 0.9586958416877343, \n",
      "Precision: 0.17173837005946135, \n",
      "Recall: 0.9979674796747967, \n",
      "F1 Score: 0.29304685168606387\n"
     ]
    },
    {
     "data": {
      "image/png": "[encoded data removed]",
      "text/plain": [
       "<Figure size 640x480 with 2 Axes>"
      ]
     },
     "metadata": {},
     "output_type": "display_data"
    }
   ],
   "source": [
    "# Generate binary predictions based on the threshold\n",
    "predicted_anomalies = np.array([1 if loss > threshold else 0 for loss in test_losses])\n",
    "actual_anomalies = y_test.to_numpy()\n",
    "\n",
    "# Calculate evaluation metrics\n",
    "accuracy = accuracy_score(actual_anomalies, predicted_anomalies)\n",
    "precision = precision_score(actual_anomalies, predicted_anomalies)\n",
    "recall = recall_score(actual_anomalies, predicted_anomalies)\n",
    "f1 = f1_score(actual_anomalies, predicted_anomalies)\n",
    "\n",
    "print(f'Accuracy: {accuracy}, \\nPrecision: {precision}, \\nRecall: {recall}, \\nF1 Score: {f1}')\n",
    "\n",
    "# Plotting the confusion matrix\n",
    "conf_matrix = confusion_matrix(actual_anomalies, predicted_anomalies)\n",
    "sb.heatmap(conf_matrix, annot=True, fmt=\"d\", cmap='Blues')\n",
    "plt.xlabel('Predicted Labels')\n",
    "plt.ylabel('True Labels')\n",
    "plt.title('Confusion Matrix')\n",
    "plt.show()"
   ]
  },
  {
   "cell_type": "code",
   "execution_count": 82,
   "metadata": {},
   "outputs": [],
   "source": [
    "# # Save the model's state dictionary\n",
    "# torch.save(model.state_dict(), 'autoencoder_model_weights2.pth')\n"
   ]
  },
  {
   "cell_type": "code",
   "execution_count": 17,
   "metadata": {},
   "outputs": [
    {
     "data": {
      "image/png": "[encoded data removed]",
      "text/plain": [
       "<Figure size 1000x600 with 1 Axes>"
      ]
     },
     "metadata": {},
     "output_type": "display_data"
    },
    {
     "ename": "ValueError",
     "evalue": "too many values to unpack (expected 2)",
     "output_type": "error",
     "traceback": [
      "\u001b[0;31m---------------------------------------------------------------------------\u001b[0m",
      "\u001b[0;31mValueError\u001b[0m                                Traceback (most recent call last)",
      "Cell \u001b[0;32mIn[17], line 11\u001b[0m\n\u001b[1;32m      8\u001b[0m plt\u001b[38;5;241m.\u001b[39mshow()\n\u001b[1;32m     10\u001b[0m \u001b[38;5;66;03m# After training, evaluate the model to get reconstruction losses and labels\u001b[39;00m\n\u001b[0;32m---> 11\u001b[0m reconstruction_losses, labels \u001b[38;5;241m=\u001b[39m evaluate_model(model, test_loader, criterion)\n",
      "\u001b[0;31mValueError\u001b[0m: too many values to unpack (expected 2)"
     ]
    }
   ],
   "source": [
    "# Plot the training loss over epochs\n",
    "plt.figure(figsize=(10, 6))\n",
    "plt.plot(range(1, 51), epoch_losses, marker='o')\n",
    "plt.title('Training Loss Over Epochs')\n",
    "plt.xlabel('Epochs')\n",
    "plt.ylabel('Average Reconstruction Loss')\n",
    "plt.grid(True)\n",
    "plt.show()\n",
    "\n",
    "# After training, evaluate the model to get reconstruction losses and labels\n",
    "reconstruction_losses, labels = evaluate_model(model, test_loader, criterion)"
   ]
  },
  {
   "cell_type": "code",
   "execution_count": null,
   "metadata": {},
   "outputs": [],
   "source": []
  }
 ],
 "metadata": {
  "kernelspec": {
   "display_name": "alignface",
   "language": "python",
   "name": "python3"
  },
  "language_info": {
   "codemirror_mode": {
    "name": "ipython",
    "version": 3
   },
   "file_extension": ".py",
   "mimetype": "text/x-python",
   "name": "python",
   "nbconvert_exporter": "python",
   "pygments_lexer": "ipython3",
   "version": "3.10.12"
  }
 },
 "nbformat": 4,
 "nbformat_minor": 2
}
